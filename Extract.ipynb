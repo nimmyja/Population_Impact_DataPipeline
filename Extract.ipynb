{
 "cells": [
  {
   "cell_type": "code",
   "execution_count": 1,
   "id": "59879293",
   "metadata": {},
   "outputs": [],
   "source": [
    "from sqlalchemy import create_engine\n",
    "import pandas as pd\n",
    "import psycopg2\n",
    "from sqlalchemy.ext.declarative import declarative_base\n",
    "Base = declarative_base()\n",
    "from sqlalchemy import Column, Integer, String, Float\n",
    "from io import StringIO"
   ]
  },
  {
   "cell_type": "code",
   "execution_count": 2,
   "id": "beef259f",
   "metadata": {},
   "outputs": [],
   "source": [
    "#Import password\n",
    "from config import username\n",
    "from config import password"
   ]
  },
  {
   "cell_type": "code",
   "execution_count": 3,
   "id": "2f892c1e",
   "metadata": {},
   "outputs": [],
   "source": [
    "Pollution_path = \"Resources/Pollution.csv\"\n",
    "population_path = \"Resources/Population_Data.csv\"\n",
    "Pollution_col = [\"Exposure_ID\",\n",
    "    \"Type\",\n",
    "    \"Country\",\n",
    "    \"ISO3\",\n",
    "    \"Region\",\n",
    "    \"Name\",\n",
    "    \"Exposure_Lower\",\n",
    "    \"Exposure_Mean\",\n",
    "    \"Exposure_Upper\",\n",
    "    \"Year\",\n",
    "    \"Pollutant\",\n",
    "    \"Pollutant_Name\",\n",
    "    \"Region_Name\",\n",
    "    \"Units\"\n",
    "          ]\n",
    "\n",
    "Population_col = [\"Country_Name\",\n",
    "    \"Country_Code\",\n",
    "    \"Indicator_Name\",\n",
    "    \"Indicator_Code\",\n",
    "    \"year\",\n",
    "    \"population\",\n",
    "          ]"
   ]
  },
  {
   "cell_type": "code",
   "execution_count": 4,
   "id": "1dac4435",
   "metadata": {},
   "outputs": [],
   "source": [
    "\n",
    "conn = psycopg2.connect(host=\"localhost\",dbname=\"pollution_analysis\", user=\"postgres\", password=\"Password#1\", port= 5433)\n",
    "cur = conn.cursor()"
   ]
  },
  {
   "cell_type": "markdown",
   "id": "89c3fc1c",
   "metadata": {},
   "source": [
    "# Defined functions to read the csv files and write the data into PostgreSQL"
   ]
  },
  {
   "cell_type": "code",
   "execution_count": 5,
   "id": "a751d371",
   "metadata": {},
   "outputs": [],
   "source": [
    "def copy_from_stringio(conn, df, table,schema):\n",
    "\n",
    "    # save dataframe to an in memory buffer\n",
    "    buffer = StringIO()\n",
    "    df.to_csv(buffer, index_label='id', header=False)\n",
    "    buffer.seek(0)\n",
    "    cursor = conn.cursor()\n",
    "    cursor.execute(\"SET search_path = \"+schema)\n",
    "    try:\n",
    "        cursor.copy_from(buffer, table, sep=\",\")\n",
    "        conn.commit()\n",
    "    except (Exception, psycopg2.DatabaseError) as error:\n",
    "        \n",
    "        print(\"Error: %s\" % error)\n",
    "        conn.rollback()\n",
    "        cursor.close()\n",
    "        return 1\n",
    "    print(\"copy_from_stringio() done\")\n",
    "    cursor.close()\n",
    "\n",
    "def read_files(path,name_col,header_rows,key):\n",
    "    df_set =pd.read_csv(path,names=name_col,skiprows=header_rows,quotechar='\"')\n",
    "    df_set.replace(',',' ', regex=True, inplace=True)\n",
    "    df_set.set_index(keys=key,inplace=True)\n",
    "    return df_set\n",
    "    \n"
   ]
  },
  {
   "cell_type": "markdown",
   "id": "8ca3045a",
   "metadata": {},
   "source": [
    "# Read data from input files and stores in stage schema tables"
   ]
  },
  {
   "cell_type": "code",
   "execution_count": 6,
   "id": "84e71a2e",
   "metadata": {},
   "outputs": [
    {
     "name": "stdout",
     "output_type": "stream",
     "text": [
      "copy_from_stringio() done\n",
      "copy_from_stringio() done\n"
     ]
    }
   ],
   "source": [
    "copy_from_stringio(conn,read_files(Pollution_path,Pollution_col,1,'Exposure_ID'),'stg_pollution','stage_analysis')\n",
    "copy_from_stringio(conn,read_files(population_path,Population_col,1,'Country_Name'),'stg_population','stage_analysis')"
   ]
  },
  {
   "cell_type": "code",
   "execution_count": null,
   "id": "d42cb7db",
   "metadata": {},
   "outputs": [],
   "source": []
  }
 ],
 "metadata": {
  "kernelspec": {
   "display_name": "Python 3",
   "language": "python",
   "name": "python3"
  },
  "language_info": {
   "codemirror_mode": {
    "name": "ipython",
    "version": 3
   },
   "file_extension": ".py",
   "mimetype": "text/x-python",
   "name": "python",
   "nbconvert_exporter": "python",
   "pygments_lexer": "ipython3",
   "version": "3.7.11"
  }
 },
 "nbformat": 4,
 "nbformat_minor": 5
}
